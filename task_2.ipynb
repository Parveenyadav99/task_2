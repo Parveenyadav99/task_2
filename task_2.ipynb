{
 "cells": [
  {
   "cell_type": "code",
   "execution_count": 8,
   "id": "0e50ad83",
   "metadata": {},
   "outputs": [],
   "source": [
    "# Q1. You are writing code for a company. The requirement of the company is that you create a python\n",
    "# function that will check whether the password entered by the user is correct or not. The function should\n",
    "# take the password as input and return the string “Valid Password” if the entered password follows the\n",
    "# below-given password guidelines else it should return “Invalid Password”.\n",
    "# 2. The Password should contain at least a number and three special characters.\n",
    "# 3. The length of the password should be 10 characters long.\n",
    "\n",
    "\n",
    "def validate_password(password):\n",
    "    # Check if the length of the password is 10 characters\n",
    "    if len(password) != 10:\n",
    "        return \"Invalid Password\"\n",
    "\n",
    "    # Check if the password contains at least two uppercase letters and two lowercase letters\n",
    "    upper_count = 0\n",
    "    lower_count = 0\n",
    "    for char in password:\n",
    "        if char.isupper():\n",
    "            upper_count += 1\n",
    "        elif char.islower():\n",
    "            lower_count += 1\n",
    "\n",
    "    if upper_count < 2 or lower_count < 2:\n",
    "        return \"Invalid Password\"\n",
    "\n",
    "    # Check if the password contains at least one number and three special characters\n",
    "    special_count = 0\n",
    "    has_number = False\n",
    "    for char in password:\n",
    "        if not char.isalnum():\n",
    "            special_count += 1\n",
    "        elif char.isdigit():\n",
    "            has_number = True\n",
    "\n",
    "    if special_count < 3 or not has_number:\n",
    "        return \"Invalid Password\"\n",
    "\n",
    "    # If all conditions are met, return \"Valid Password\"\n",
    "    return \"Valid Password\"\n"
   ]
  },
  {
   "cell_type": "code",
   "execution_count": 9,
   "id": "ed61c950",
   "metadata": {},
   "outputs": [
    {
     "data": {
      "text/plain": [
       "'Invalid Password'"
      ]
     },
     "execution_count": 9,
     "metadata": {},
     "output_type": "execute_result"
    }
   ],
   "source": [
    ">>> check_password(\"abcdefghij\")\n",
    "\"Invalid Password\"\n",
    ">>> check_password(\"Abcd12@#$%\")\n",
    "\"Valid Password\"\n",
    ">>> check_password(\"abCd12@#$\")\n",
    "\"Invalid Password\"\n"
   ]
  },
  {
   "cell_type": "code",
   "execution_count": 4,
   "id": "dacb84c4",
   "metadata": {},
   "outputs": [],
   "source": [
    "import re\n",
    "\n",
    "def check_password(password):\n",
    "    # Regular expression pattern for checking the requirements\n",
    "    pattern = r'^(?=.*[a-z].*[a-z])(?=.*[A-Z].*[A-Z])(?=.*\\d)(?=.*[@$!%*?&]).{10,}$'\n",
    "    \n",
    "    if re.search(pattern, password):\n",
    "        return \"Valid Password\"\n",
    "    else:\n",
    "        return \"Invalid Password\"\n"
   ]
  },
  {
   "cell_type": "code",
   "execution_count": 5,
   "id": "91b51bd0",
   "metadata": {},
   "outputs": [],
   "source": [
    "def check_password(password):\n",
    "    # Check if password is 10 characters long\n",
    "    if len(password) != 10:\n",
    "        return \"Invalid Password\"\n",
    "    \n",
    "    # Check for at least two uppercase letters and two lowercase letters\n",
    "    upper_count = 0\n",
    "    lower_count = 0\n",
    "    for char in password:\n",
    "        if char.isupper():\n",
    "            upper_count += 1\n",
    "        elif char.islower():\n",
    "            lower_count += 1\n",
    "    \n",
    "    if upper_count < 2 or lower_count < 2:\n",
    "        return \"Invalid Password\"\n",
    "    \n",
    "    # Check for at least one number and three special characters\n",
    "    num_count = 0\n",
    "    special_count = 0\n",
    "    special_chars = \"@#$%^&+=\"\n",
    "    for char in password:\n",
    "        if char.isdigit():\n",
    "            num_count += 1\n",
    "        elif char in special_chars:\n",
    "            special_count += 1\n",
    "    \n",
    "    if num_count < 1 or special_count < 3:\n",
    "        return \"Invalid Password\"\n",
    "    \n",
    "    return \"Valid Password\"\n"
   ]
  },
  {
   "cell_type": "code",
   "execution_count": 11,
   "id": "046a59e9",
   "metadata": {},
   "outputs": [
    {
     "data": {
      "text/plain": [
       "'Invalid Password'"
      ]
     },
     "execution_count": 11,
     "metadata": {},
     "output_type": "execute_result"
    }
   ],
   "source": [
    ">>> check_password(\"abcdefghij\")\n",
    "\"Invalid Password\"\n",
    ">>> check_password(\"Abcd12@#$%\")\n",
    "\"Valid Password\"\n",
    ">>> check_password(\"abCd12@#$\")\n",
    "\"Invalid Password\"\n"
   ]
  },
  {
   "cell_type": "code",
   "execution_count": null,
   "id": "58a48806",
   "metadata": {},
   "outputs": [],
   "source": [
    "# Q2. Solve the below-given questions using at least one of the following:\n",
    "1. Lambda functioJ\n",
    "2. Filter functioJ\n",
    "3. Zap functioJ\n",
    "4. List ComprehensioI\n",
    "B Check if the string starts with a particular letterY\n",
    "B Check if the string is numericY\n",
    "B Sort a list of tuples having fruit names and their quantity. [(\"mango\",99),(\"orange\",80), (\"grapes\", 1000)-\n",
    "B Find the squares of numbers from 1 to 10Y\n",
    "B Find the cube root of numbers from 1 to 10Y\n",
    "B Check if a given number is evenY\n",
    "B Filter odd numbers from the given list.\n",
    "[1,2,3,4,5,6,7,8,9,10-\n",
    "B Sort a list of integers into positive and negative integers lists.\n",
    "[1,2,3,4,5,6,-1,-2,-3,-4,-5,0]\n",
    "\n"
   ]
  },
  {
   "cell_type": "code",
   "execution_count": 21,
   "id": "9f9ecb87",
   "metadata": {},
   "outputs": [
    {
     "name": "stdout",
     "output_type": "stream",
     "text": [
      "['cherry']\n"
     ]
    }
   ],
   "source": [
    "# Check if the string starts with a particular letter:\n",
    "def starts_with(string, letter):\n",
    "    return string.startswith(letter)\n",
    "\n",
    "strings = [\"apple\", \"banana\", \"cherry\", \"date\"]\n",
    "result = filter(lambda x: starts_with(x, \"c\"), strings)\n",
    "print(list(result))\n"
   ]
  },
  {
   "cell_type": "code",
   "execution_count": 22,
   "id": "bf3e8490",
   "metadata": {},
   "outputs": [
    {
     "name": "stdout",
     "output_type": "stream",
     "text": [
      "['123', '456', '789']\n"
     ]
    }
   ],
   "source": [
    "# Check if the string is numeric:\n",
    "def is_numeric(string):\n",
    "    return string.isdigit()\n",
    "\n",
    "strings = [\"123\", \"456\", \"abc\", \"789\"]\n",
    "result = filter(lambda x: is_numeric(x), strings)\n",
    "print(list(result)) "
   ]
  },
  {
   "cell_type": "code",
   "execution_count": 23,
   "id": "1f615656",
   "metadata": {},
   "outputs": [
    {
     "name": "stdout",
     "output_type": "stream",
     "text": [
      "[('orange', 80), ('mango', 99), ('grapes', 1000)]\n"
     ]
    }
   ],
   "source": [
    "# Sort a list of tuples having fruit names and their quantity:\n",
    "fruits = [(\"mango\", 99), (\"orange\", 80), (\"grapes\", 1000)]\n",
    "result = sorted(fruits, key=lambda x: x[1])\n",
    "print(result) "
   ]
  },
  {
   "cell_type": "code",
   "execution_count": 24,
   "id": "4ff6b1d6",
   "metadata": {},
   "outputs": [
    {
     "name": "stdout",
     "output_type": "stream",
     "text": [
      "[1, 4, 9, 16, 25, 36, 49, 64, 81, 100]\n"
     ]
    }
   ],
   "source": [
    "# Find the squares of numbers from 1 to 10:\n",
    "numbers = range(1, 11)\n",
    "result = map(lambda x: x**2, numbers)\n",
    "print(list(result)) \n"
   ]
  },
  {
   "cell_type": "code",
   "execution_count": 25,
   "id": "9afb50e6",
   "metadata": {},
   "outputs": [
    {
     "name": "stdout",
     "output_type": "stream",
     "text": [
      "[2, 4, 6, 8, 10]\n"
     ]
    }
   ],
   "source": [
    "# Check if a given number is even:\n",
    "numbers = range(1, 11)\n",
    "result = filter(lambda x: x % 2 == 0, numbers)\n",
    "print(list(result)) "
   ]
  },
  {
   "cell_type": "code",
   "execution_count": 26,
   "id": "159bd0a6",
   "metadata": {},
   "outputs": [
    {
     "name": "stdout",
     "output_type": "stream",
     "text": [
      "[1, 3, 5, 7, 9]\n"
     ]
    }
   ],
   "source": [
    "# Filter odd numbers from the given list:\n",
    "numbers = [1, 2, 3, 4, 5, 6, 7, 8, 9, 10]\n",
    "result = filter(lambda x: x % 2 != 0, numbers)\n",
    "print(list(result)) "
   ]
  },
  {
   "cell_type": "code",
   "execution_count": 27,
   "id": "ea4e55bc",
   "metadata": {},
   "outputs": [
    {
     "name": "stdout",
     "output_type": "stream",
     "text": [
      "[1, 2, 3, 4, 5, 6]\n"
     ]
    }
   ],
   "source": [
    "# Sort a list of integers into positive and negative integers lists:\n",
    "numbers = [1, 2, 3, 4, 5, 6, -1, -2, -3, -4, -5, 0]\n",
    "result_pos = filter(lambda x: x > 0, numbers)\n",
    "result_neg = filter(lambda x: x < 0, numbers)\n",
    "print(list(result_pos)) \n",
    "\n"
   ]
  },
  {
   "cell_type": "code",
   "execution_count": null,
   "id": "652ba537",
   "metadata": {},
   "outputs": [],
   "source": []
  },
  {
   "cell_type": "code",
   "execution_count": null,
   "id": "4e9809e0",
   "metadata": {},
   "outputs": [],
   "source": []
  }
 ],
 "metadata": {
  "kernelspec": {
   "display_name": "Python 3 (ipykernel)",
   "language": "python",
   "name": "python3"
  },
  "language_info": {
   "codemirror_mode": {
    "name": "ipython",
    "version": 3
   },
   "file_extension": ".py",
   "mimetype": "text/x-python",
   "name": "python",
   "nbconvert_exporter": "python",
   "pygments_lexer": "ipython3",
   "version": "3.9.7"
  }
 },
 "nbformat": 4,
 "nbformat_minor": 5
}
